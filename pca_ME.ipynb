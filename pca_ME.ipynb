import numpy as np
import pandas as pd
import matplot.pyplot as plt 
import sklearn.linear_model as lm
from sklearn.metrics import mean_squared_error as mse
from sklearn.metrics import r2_score
